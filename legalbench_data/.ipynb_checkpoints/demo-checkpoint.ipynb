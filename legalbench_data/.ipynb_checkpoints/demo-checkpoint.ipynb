{
 "cells": [
  {
   "cell_type": "code",
   "execution_count": 1,
   "metadata": {},
   "outputs": [],
   "source": [
    "from pathlib import Path\n",
    "import pandas as pd"
   ]
  },
  {
   "cell_type": "code",
   "execution_count": 48,
   "metadata": {},
   "outputs": [],
   "source": [
    "task = \"CUAD_Affiliate License-Licensee\"\n",
    "folder = Path(task)"
   ]
  },
  {
   "cell_type": "code",
   "execution_count": 50,
   "metadata": {},
   "outputs": [
    {
     "name": "stdout",
     "output_type": "stream",
     "text": [
      "Does the clause describe a license grant to a licensee (incl. sublicensor) and the affiliates of such licensee/sublicensor?\n",
      "\n",
      "Clause: Sanofi shall have the right, in its sole discretion, to appoint its Affiliates, and Sanofi and its Affiliates shall have the right, in its sole discretion, to appoint any other Persons, in the Licensed Territory to distribute, market, and sell the Products (with or without packaging rights), in circumstances where the Person purchases its requirements of Products from Sanofi or its Affiliates but does not otherwise make any royalty or other payment to Sanofi or its Affiliates with respect to its intellectual property or other proprietary rights.\n",
      "Label: Yes\n",
      "\n",
      "Clause: Subject to the terms and conditions of this Agreement, Sponsor hereby grants to Excite a royalty-free, non-exclusive, worldwide license to use, reproduce, distribute, transmit and publicly display the Content in accordance with this Agreement and to sub-license the Content to Excite's wholly-owned subsidiaries or to joint ventures in which Excite participates for the sole purpose of using, reproducing, distributing, transmitting and publicly displaying the Content in accordance with this Agreement\n",
      "Label: Yes\n",
      "\n",
      "Clause: The \"Term\" of this Agreement shall commence on the Effective Date and shall continue in full force and effect until the expiration or earlier termination of the last Addendum to expire or be terminated, at which time this Agreement will expire, unless this Agreement is sooner terminated in accordance with the terms and provisions of this Agreement.\n",
      "Label: No\n",
      "\n",
      "Clause: Certegy hereby grants, and will cause each member of the Certegy Group to grant, to Equifax and each member of the Equifax Group a fully paid, non- exclusive, worldwide, non-<omitted>transferable right to continue to use the Marks that were owned immediately prior to the Distribution Date by a member of the Certegy Group and employed in the Equifax Business, but only to the extent such Marks were displayed by the Equifax Group prior to the Distribution Date (i) on assets owned by Equifax or any member of the Equifax Group (other than the Transferred Assets), (ii) on premises jointly occupied with one or more members of the Certegy Group, and (iii) on letterhead, product and services documentation, invoices, software programs, packaging and similar materials used by the members of the Equifax Group, and such Marks are used in accordance with the same guidelines for usage as the Equifax Marks as described in subsection (a) above.\n",
      "Label: Yes\n",
      "\n",
      "Clause: The validity, construction and interpretation of this Agreement and the rights and duties of the parties hereto shall be governed by the internal laws of the State of Wisconsin, excluding its principles of conflict of laws.\n",
      "Label: No\n",
      "\n",
      "Clause: Notwithstanding anything contained in this Agreement or the Transition Services and Inventory Agreement or the Supply Agreement in no circumstance shall either Party be liable to the other in contract, tort (including negligence or breach of statutory duty) or otherwise howsoever, and whatever the cause thereof, for any special, indirect or consequential loss or damage of any nature whatsoever except in the cases of fraud or intentional misconduct or in the case of PPI as a result of PPI's breach of Section 7.2.12 of the Supply Agreement.\n",
      "Label: No\n",
      "\n",
      "Clause: {{text}}\n",
      "Label:\n"
     ]
    }
   ],
   "source": [
    "# Load prompt \n",
    "with open(folder / \"base_prompt.txt\") as in_file: \n",
    "    prompt_template = in_file.read()\n",
    "print(prompt_template)"
   ]
  },
  {
   "cell_type": "code",
   "execution_count": 52,
   "metadata": {},
   "outputs": [],
   "source": [
    "# Load test\n",
    "test = pd.read_csv(folder / \"test.tsv\", sep=\"\\t\")"
   ]
  },
  {
   "cell_type": "code",
   "execution_count": 54,
   "metadata": {},
   "outputs": [
    {
     "name": "stdout",
     "output_type": "stream",
     "text": [
      "Does the clause describe a license grant to a licensee (incl. sublicensor) and the affiliates of such licensee/sublicensor?\n",
      "\n",
      "Clause: Sanofi shall have the right, in its sole discretion, to appoint its Affiliates, and Sanofi and its Affiliates shall have the right, in its sole discretion, to appoint any other Persons, in the Licensed Territory to distribute, market, and sell the Products (with or without packaging rights), in circumstances where the Person purchases its requirements of Products from Sanofi or its Affiliates but does not otherwise make any royalty or other payment to Sanofi or its Affiliates with respect to its intellectual property or other proprietary rights.\n",
      "Label: Yes\n",
      "\n",
      "Clause: Subject to the terms and conditions of this Agreement, Sponsor hereby grants to Excite a royalty-free, non-exclusive, worldwide license to use, reproduce, distribute, transmit and publicly display the Content in accordance with this Agreement and to sub-license the Content to Excite's wholly-owned subsidiaries or to joint ventures in which Excite participates for the sole purpose of using, reproducing, distributing, transmitting and publicly displaying the Content in accordance with this Agreement\n",
      "Label: Yes\n",
      "\n",
      "Clause: The \"Term\" of this Agreement shall commence on the Effective Date and shall continue in full force and effect until the expiration or earlier termination of the last Addendum to expire or be terminated, at which time this Agreement will expire, unless this Agreement is sooner terminated in accordance with the terms and provisions of this Agreement.\n",
      "Label: No\n",
      "\n",
      "Clause: Certegy hereby grants, and will cause each member of the Certegy Group to grant, to Equifax and each member of the Equifax Group a fully paid, non- exclusive, worldwide, non-<omitted>transferable right to continue to use the Marks that were owned immediately prior to the Distribution Date by a member of the Certegy Group and employed in the Equifax Business, but only to the extent such Marks were displayed by the Equifax Group prior to the Distribution Date (i) on assets owned by Equifax or any member of the Equifax Group (other than the Transferred Assets), (ii) on premises jointly occupied with one or more members of the Certegy Group, and (iii) on letterhead, product and services documentation, invoices, software programs, packaging and similar materials used by the members of the Equifax Group, and such Marks are used in accordance with the same guidelines for usage as the Equifax Marks as described in subsection (a) above.\n",
      "Label: Yes\n",
      "\n",
      "Clause: The validity, construction and interpretation of this Agreement and the rights and duties of the parties hereto shall be governed by the internal laws of the State of Wisconsin, excluding its principles of conflict of laws.\n",
      "Label: No\n",
      "\n",
      "Clause: Notwithstanding anything contained in this Agreement or the Transition Services and Inventory Agreement or the Supply Agreement in no circumstance shall either Party be liable to the other in contract, tort (including negligence or breach of statutory duty) or otherwise howsoever, and whatever the cause thereof, for any special, indirect or consequential loss or damage of any nature whatsoever except in the cases of fraud or intentional misconduct or in the case of PPI as a result of PPI's breach of Section 7.2.12 of the Supply Agreement.\n",
      "Label: No\n",
      "\n",
      "Clause: Subject to the terms and conditions of this Agreement, Parent hereby grants to each individual member of the SpinCo Group, on behalf of itself and the other members of the Parent Group, and shall cause the other members of the Parent Group to grant to each individual member of the SpinCo Group, a non-exclusive, worldwide, perpetual, irrevocable, fully paid-up, royalty-free right and license, solely for use in the SpinCo Field, to (i)<omitted>use, reproduce, distribute, display, perform, make improvements and exploit Intellectual Property owned or controlled by Parent or a member of the Parent Group and currently used in the SpinCo Business, and (ii) make, have made, use, sell, offer to sell and import any goods and services incorporating, embodying or utilizing such Intellectual Property currently used in the SpinCo Business.\n",
      "Label:\n"
     ]
    }
   ],
   "source": [
    "# Generate prompt for sample\n",
    "idx = 0\n",
    "text = test.iloc[idx][\"text\"]\n",
    "prompt = prompt_template.replace(\"{{text}}\", text)\n",
    "print(prompt)"
   ]
  }
 ],
 "metadata": {
  "kernelspec": {
   "display_name": "Python 3",
   "language": "python",
   "name": "python3"
  },
  "language_info": {
   "codemirror_mode": {
    "name": "ipython",
    "version": 3
   },
   "file_extension": ".py",
   "mimetype": "text/x-python",
   "name": "python",
   "nbconvert_exporter": "python",
   "pygments_lexer": "ipython3",
   "version": "3.8.3"
  }
 },
 "nbformat": 4,
 "nbformat_minor": 4
}
